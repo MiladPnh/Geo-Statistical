{
 "cells": [
  {
   "cell_type": "markdown",
   "metadata": {},
   "source": [
    "# Multi-Layer Perceptron"
   ]
  },
  {
   "cell_type": "code",
   "execution_count": 1,
   "metadata": {
    "collapsed": false
   },
   "outputs": [],
   "source": [
    "import random\n",
    "import numpy as np\n",
    "class Network(object):\n",
    "    def __init__(self, sizes):\n",
    "        self.num_layers = len(sizes)\n",
    "        self.sizes = sizes\n",
    "        self.biases = [np.random.randn(y, 1) for y in sizes[1:]]\n",
    "        self.weights = [np.random.randn(y, x) for x, y in zip(sizes[:-1], sizes[1:])]\n",
    "\n",
    "    def feedforward(self, a):\n",
    "        for b, w in zip(self.biases, self.weights):\n",
    "            a = sigmoid(np.dot(w, a)+b)\n",
    "        return a\n",
    "\n",
    "    def SGD(self, training_data, epochs, mini_batch_size, eta,lamda,test_data=None):\n",
    "        if test_data:\n",
    "            n_test = len(test_data)\n",
    "        n = len(training_data)\n",
    "        for j in range(epochs):\n",
    "            random.shuffle(training_data)\n",
    "            mini_batches = [training_data[k:k+mini_batch_size] for k in range(0, n, mini_batch_size)]\n",
    "            for mini_batch in mini_batches:\n",
    "                self.update_mini_batch(mini_batch, eta,lamda,len(training_data))\n",
    "            if test_data:\n",
    "                print (\"Epoch\", j,\", Training Error:\", self.evaluate(test_data),\"|\",n_test)\n",
    "            else:\n",
    "                print(\"Done\")\n",
    "\n",
    "    def update_mini_batch(self, mini_batch, eta,lamda,n):\n",
    "        nabla_b = [np.zeros(b.shape) for b in self.biases]\n",
    "        nabla_w = [np.zeros(w.shape) for w in self.weights]\n",
    "        for x, y in mini_batch:\n",
    "            delta_nabla_b, delta_nabla_w = self.backprop(x, y)\n",
    "            nabla_b = [nb+dnb for nb, dnb in zip(nabla_b, delta_nabla_b)]\n",
    "            nabla_w = [nw+dnw for nw, dnw in zip(nabla_w, delta_nabla_w)]\n",
    "        self.weights = [(1-eta*lamda/n)*w-(eta/len(mini_batch))*nw for w, nw in zip(self.weights, nabla_w)]\n",
    "        self.biases = [b-(eta/len(mini_batch))*nb for b, nb in zip(self.biases, nabla_b)]\n",
    "\n",
    "    def backprop(self, x, y):\n",
    "        nabla_b = [np.zeros(b.shape) for b in self.biases]\n",
    "        nabla_w = [np.zeros(w.shape) for w in self.weights]\n",
    "        activation = x\n",
    "        activations = [x]\n",
    "        zs = []\n",
    "        for b, w in zip(self.biases, self.weights):\n",
    "            z = np.dot(w, activation)+b\n",
    "            zs.append(z)\n",
    "            activation = sigmoid(z)\n",
    "            activations.append(activation)\n",
    "        delta = self.cost_derivative(activations[-1], y) * sigmoid_prime(zs[-1])\n",
    "        nabla_b[-1] = delta\n",
    "        nabla_w[-1] = np.dot(delta, activations[-2].transpose())\n",
    "        for l in range(2, self.num_layers):\n",
    "            z = zs[-l]\n",
    "            sp = sigmoid_prime(z)\n",
    "            delta = np.dot(self.weights[-l+1].transpose(), delta) * sp\n",
    "            nabla_b[-l] = delta\n",
    "            nabla_w[-l] = np.dot(delta, activations[-l-1].transpose())\n",
    "        return (nabla_b, nabla_w)\n",
    "\n",
    "    def cost_derivative(self, output_activations, y):\n",
    "        return (output_activations-y)\n",
    "    \n",
    "    def feedforward(self, a):\n",
    "        for b, w in zip(self.biases, self.weights):\n",
    "            a = sigmoid(np.dot(w, a)+b)\n",
    "        return a\n",
    "    def evaluate(self, test_data):\n",
    "        test_results = [(np.argmax(self.feedforward(x)), y) for (x, y) in test_data]\n",
    "        return sum(int(x == y) for (x, y) in test_results)\n",
    "def sigmoid(z):\n",
    "    return 1.0/(1.0+np.exp(-z))\n",
    "\n",
    "def sigmoid_prime(z):\n",
    "    return sigmoid(z)*(1-sigmoid(z))"
   ]
  },
  {
   "cell_type": "code",
   "execution_count": 2,
   "metadata": {
    "collapsed": true
   },
   "outputs": [],
   "source": [
    "import cloudpickle as cPickle\n",
    "import pickle\n",
    "import gzip\n",
    "import numpy as np\n",
    "\n",
    "def load_data():\n",
    "    f = gzip.open('datahw3/mnist.pkl.gz', 'rb')\n",
    "    training_data, validation_data, test_data = cPickle.load(f, encoding='latin1')\n",
    "    f.close()\n",
    "    return (training_data, validation_data, test_data)\n",
    "\n",
    "def load_data_wrapper():\n",
    "    tr_d, va_d, te_d = load_data()\n",
    "    training_inputs = [np.reshape(x, (784, 1)) for x in tr_d[0]]\n",
    "    training_results = [vectorized_result(y) for y in tr_d[1]]\n",
    "    training_data = list(zip(training_inputs, training_results))\n",
    "    validation_inputs = [np.reshape(x, (784, 1)) for x in va_d[0]]\n",
    "    validation_data = list(zip(validation_inputs, va_d[1]))\n",
    "    test_inputs = [np.reshape(x, (784, 1)) for x in te_d[0]]\n",
    "    test_data = list(zip(test_inputs, te_d[1]))\n",
    "    return (training_data, validation_data, test_data)\n",
    "\n",
    "def vectorized_result(j):\n",
    "    e = np.zeros((10, 1))\n",
    "    e[j] = 1.0\n",
    "    return e"
   ]
  },
  {
   "cell_type": "code",
   "execution_count": 3,
   "metadata": {
    "collapsed": false
   },
   "outputs": [
    {
     "name": "stdout",
     "output_type": "stream",
     "text": [
      "Epoch 0 , Training Error: 9020 | 10000\n",
      "Epoch 1 , Training Error: 9209 | 10000\n",
      "Epoch 2 , Training Error: 9274 | 10000\n",
      "Epoch 3 , Training Error: 9348 | 10000\n",
      "Epoch 4 , Training Error: 9372 | 10000\n",
      "Epoch 5 , Training Error: 9345 | 10000\n",
      "Epoch 6 , Training Error: 9378 | 10000\n",
      "Epoch 7 , Training Error: 9444 | 10000\n",
      "Epoch 8 , Training Error: 9437 | 10000\n",
      "Epoch 9 , Training Error: 9457 | 10000\n",
      "Epoch 10 , Training Error: 9495 | 10000\n",
      "Epoch 11 , Training Error: 9445 | 10000\n",
      "Epoch 12 , Training Error: 9501 | 10000\n",
      "Epoch 13 , Training Error: 9502 | 10000\n",
      "Epoch 14 , Training Error: 9491 | 10000\n",
      "Epoch 15 , Training Error: 9464 | 10000\n",
      "Epoch 16 , Training Error: 9512 | 10000\n",
      "Epoch 17 , Training Error: 9504 | 10000\n",
      "Epoch 18 , Training Error: 9527 | 10000\n",
      "Epoch 19 , Training Error: 9455 | 10000\n",
      "Epoch 20 , Training Error: 9495 | 10000\n",
      "Epoch 21 , Training Error: 9524 | 10000\n",
      "Epoch 22 , Training Error: 9482 | 10000\n",
      "Epoch 23 , Training Error: 9537 | 10000\n",
      "Epoch 24 , Training Error: 9525 | 10000\n",
      "Epoch 25 , Training Error: 9539 | 10000\n",
      "Epoch 26 , Training Error: 9530 | 10000\n",
      "Epoch 27 , Training Error: 9523 | 10000\n",
      "Epoch 28 , Training Error: 9499 | 10000\n",
      "Epoch 29 , Training Error: 9497 | 10000\n",
      "Test Error: 9435 | 10000\n"
     ]
    }
   ],
   "source": [
    "training_data, validation_data, test_data = load_data_wrapper()\n",
    "\n",
    "net = Network([784, 40,10, 10])\n",
    "net.SGD(training_data, 30, 10, 3.0,0,test_data=validation_data)\n",
    "print(\"Test Error:\",net.evaluate(test_data),\"|\",len(test_data))"
   ]
  },
  {
   "cell_type": "code",
   "execution_count": 4,
   "metadata": {
    "collapsed": false
   },
   "outputs": [
    {
     "name": "stdout",
     "output_type": "stream",
     "text": [
      "Epoch 0 , Training Error: 9569 | 10000\n",
      "Epoch 1 , Training Error: 9571 | 10000\n",
      "Epoch 2 , Training Error: 9586 | 10000\n",
      "Epoch 3 , Training Error: 9570 | 10000\n",
      "Epoch 4 , Training Error: 9650 | 10000\n",
      "Epoch 5 , Training Error: 9552 | 10000\n",
      "Epoch 6 , Training Error: 9408 | 10000\n",
      "Epoch 7 , Training Error: 9629 | 10000\n",
      "Epoch 8 , Training Error: 9604 | 10000\n",
      "Epoch 9 , Training Error: 9559 | 10000\n",
      "Epoch 10 , Training Error: 9555 | 10000\n",
      "Epoch 11 , Training Error: 9594 | 10000\n",
      "Epoch 12 , Training Error: 9597 | 10000\n",
      "Epoch 13 , Training Error: 9623 | 10000\n",
      "Epoch 14 , Training Error: 9606 | 10000\n",
      "Epoch 15 , Training Error: 9656 | 10000\n",
      "Epoch 16 , Training Error: 9590 | 10000\n",
      "Epoch 17 , Training Error: 9614 | 10000\n",
      "Epoch 18 , Training Error: 9602 | 10000\n",
      "Epoch 19 , Training Error: 9608 | 10000\n",
      "Epoch 20 , Training Error: 9604 | 10000\n",
      "Epoch 21 , Training Error: 9605 | 10000\n",
      "Epoch 22 , Training Error: 9599 | 10000\n",
      "Epoch 23 , Training Error: 9526 | 10000\n",
      "Epoch 24 , Training Error: 9538 | 10000\n",
      "Epoch 25 , Training Error: 9592 | 10000\n",
      "Epoch 26 , Training Error: 9649 | 10000\n",
      "Epoch 27 , Training Error: 9610 | 10000\n",
      "Epoch 28 , Training Error: 9650 | 10000\n",
      "Epoch 29 , Training Error: 9620 | 10000\n",
      "Test Error: 9581 | 10000\n"
     ]
    }
   ],
   "source": [
    "net.SGD(training_data, 30, 10, 3.0,1,test_data=validation_data)\n",
    "print(\"Test Error:\",net.evaluate(test_data),\"|\",len(test_data))"
   ]
  },
  {
   "cell_type": "code",
   "execution_count": 5,
   "metadata": {
    "collapsed": false,
    "scrolled": true
   },
   "outputs": [
    {
     "name": "stdout",
     "output_type": "stream",
     "text": [
      "Epoch 0 , Training Error: 8962 | 10000\n",
      "Epoch 1 , Training Error: 9074 | 10000\n",
      "Epoch 2 , Training Error: 9253 | 10000\n",
      "Epoch 3 , Training Error: 9295 | 10000\n",
      "Epoch 4 , Training Error: 9271 | 10000\n",
      "Epoch 5 , Training Error: 9409 | 10000\n",
      "Epoch 6 , Training Error: 9374 | 10000\n",
      "Epoch 7 , Training Error: 9354 | 10000\n",
      "Epoch 8 , Training Error: 9419 | 10000\n",
      "Epoch 9 , Training Error: 9485 | 10000\n",
      "Epoch 10 , Training Error: 9479 | 10000\n",
      "Epoch 11 , Training Error: 9498 | 10000\n",
      "Epoch 12 , Training Error: 9493 | 10000\n",
      "Epoch 13 , Training Error: 9547 | 10000\n",
      "Epoch 14 , Training Error: 9595 | 10000\n",
      "Epoch 15 , Training Error: 9534 | 10000\n",
      "Epoch 16 , Training Error: 9588 | 10000\n",
      "Epoch 17 , Training Error: 9582 | 10000\n",
      "Epoch 18 , Training Error: 9587 | 10000\n",
      "Epoch 19 , Training Error: 9516 | 10000\n",
      "Epoch 20 , Training Error: 9579 | 10000\n",
      "Epoch 21 , Training Error: 9585 | 10000\n",
      "Epoch 22 , Training Error: 9614 | 10000\n",
      "Epoch 23 , Training Error: 9590 | 10000\n",
      "Epoch 24 , Training Error: 9550 | 10000\n",
      "Epoch 25 , Training Error: 9596 | 10000\n",
      "Epoch 26 , Training Error: 9576 | 10000\n",
      "Epoch 27 , Training Error: 9586 | 10000\n",
      "Epoch 28 , Training Error: 9539 | 10000\n",
      "Epoch 29 , Training Error: 9602 | 10000\n",
      "Test Error: 9602 | 10000\n"
     ]
    }
   ],
   "source": [
    "net = Network([784, 150,85,15, 10])\n",
    "net.SGD(training_data, 30, 10, 3.0,0,test_data=test_data)\n",
    "print(\"Test Error:\",net.evaluate(test_data),\"|\",len(test_data))"
   ]
  },
  {
   "cell_type": "code",
   "execution_count": 6,
   "metadata": {
    "collapsed": false
   },
   "outputs": [
    {
     "name": "stdout",
     "output_type": "stream",
     "text": [
      "Epoch 0 , Training Error: 9639 | 10000\n",
      "Epoch 1 , Training Error: 9665 | 10000\n",
      "Epoch 2 , Training Error: 9654 | 10000\n",
      "Epoch 3 , Training Error: 9599 | 10000\n",
      "Epoch 4 , Training Error: 9611 | 10000\n",
      "Epoch 5 , Training Error: 9642 | 10000\n",
      "Epoch 6 , Training Error: 9587 | 10000\n",
      "Epoch 7 , Training Error: 9647 | 10000\n",
      "Epoch 8 , Training Error: 9710 | 10000\n",
      "Epoch 9 , Training Error: 9653 | 10000\n",
      "Epoch 10 , Training Error: 9670 | 10000\n",
      "Epoch 11 , Training Error: 9681 | 10000\n",
      "Epoch 12 , Training Error: 9697 | 10000\n",
      "Epoch 13 , Training Error: 9674 | 10000\n",
      "Epoch 14 , Training Error: 9584 | 10000\n",
      "Epoch 15 , Training Error: 9473 | 10000\n",
      "Epoch 16 , Training Error: 9723 | 10000\n",
      "Epoch 17 , Training Error: 9664 | 10000\n",
      "Epoch 18 , Training Error: 9711 | 10000\n",
      "Epoch 19 , Training Error: 9643 | 10000\n",
      "Epoch 20 , Training Error: 9741 | 10000\n",
      "Epoch 21 , Training Error: 9729 | 10000\n",
      "Epoch 22 , Training Error: 9579 | 10000\n",
      "Epoch 23 , Training Error: 9726 | 10000\n",
      "Epoch 24 , Training Error: 9758 | 10000\n",
      "Epoch 25 , Training Error: 9710 | 10000\n",
      "Epoch 26 , Training Error: 9652 | 10000\n",
      "Epoch 27 , Training Error: 9708 | 10000\n",
      "Epoch 28 , Training Error: 9678 | 10000\n",
      "Epoch 29 , Training Error: 9711 | 10000\n",
      "Test Error: 9711 | 10000\n"
     ]
    }
   ],
   "source": [
    "net.SGD(training_data, 30, 10, 3.0,1,test_data=test_data)\n",
    "print(\"Test Error:\",net.evaluate(test_data),\"|\",len(test_data))"
   ]
  }
 ],
 "metadata": {
  "anaconda-cloud": {},
  "kernelspec": {
   "display_name": "Python [conda root]",
   "language": "python",
   "name": "conda-root-py"
  },
  "language_info": {
   "codemirror_mode": {
    "name": "ipython",
    "version": 3
   },
   "file_extension": ".py",
   "mimetype": "text/x-python",
   "name": "python",
   "nbconvert_exporter": "python",
   "pygments_lexer": "ipython3",
   "version": "3.5.2"
  }
 },
 "nbformat": 4,
 "nbformat_minor": 1
}
